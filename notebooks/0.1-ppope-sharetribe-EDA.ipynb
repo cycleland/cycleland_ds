{
 "cells": [
  {
   "cell_type": "markdown",
   "metadata": {},
   "source": [
    "# Initial EDA of Cycleland sharetribe data\n",
    "* Data dump obtained on 5/18/2016"
   ]
  },
  {
   "cell_type": "markdown",
   "metadata": {},
   "source": [
    "Sharetribe dumps have the following structure:"
   ]
  },
  {
   "cell_type": "code",
   "execution_count": 27,
   "metadata": {
    "collapsed": false,
    "scrolled": false
   },
   "outputs": [
    {
     "name": "stdout",
     "output_type": "stream",
     "text": [
      "\u001b[01;34m../data/external/cycle-land_1463592822/\u001b[00m\r\n",
      "├── cycle-land_export.sql\r\n",
      "├── \u001b[01;34mimages\u001b[00m\r\n",
      "│   ├── \u001b[01;34mcommunities\u001b[00m\r\n",
      "│   │   ├── \u001b[01;34mcover_photos\u001b[00m\r\n",
      "│   │   ├── \u001b[01;34mfavicons\u001b[00m\r\n",
      "│   │   ├── \u001b[01;34mlogos\u001b[00m\r\n",
      "│   │   ├── \u001b[01;34msmall_cover_photos\u001b[00m\r\n",
      "│   │   └── \u001b[01;34mwide_logos\u001b[00m\r\n",
      "│   ├── \u001b[01;34mlisting_images\u001b[00m\r\n",
      "│   │   └── \u001b[01;34mimages\u001b[00m\r\n",
      "│   ├── \u001b[01;32morganize_s3_to_local.sh\u001b[00m\r\n",
      "│   └── \u001b[01;34mpeople\u001b[00m\r\n",
      "│       └── \u001b[01;34mimages\u001b[00m\r\n",
      "└── readme.txt\r\n",
      "\r\n",
      "11 directories, 3 files\r\n"
     ]
    }
   ],
   "source": [
    "!tree ../data/external/cycle-land_1463592822/ -L 3"
   ]
  },
  {
   "cell_type": "markdown",
   "metadata": {},
   "source": [
    "Quick Notes\n",
    "* \"cycle-land_export.sql\" contains all the numeric data in an ingest script. See \"readme.txt\" for instructions.\n",
    "* \"images\" contains photos of listings, people\n",
    "\n",
    "* Ingest script contains a number of tables:\n",
    "    * transactions\n",
    "    * auth_tokens\n",
    "    * billing_agreements\n",
    "    * bookings\n",
    "    * ...\n",
    "    \n",
    "* To access data, standup an empty MySQL database."
   ]
  },
  {
   "cell_type": "markdown",
   "metadata": {},
   "source": [
    "MySQL local setup:\n",
    "* https://www.linode.com/docs/databases/mysql/install-mysql-on-ubuntu-14-04"
   ]
  },
  {
   "cell_type": "code",
   "execution_count": 16,
   "metadata": {
    "collapsed": false
   },
   "outputs": [],
   "source": [
    "import MySQLdb"
   ]
  },
  {
   "cell_type": "markdown",
   "metadata": {},
   "source": [
    "# Create DB"
   ]
  },
  {
   "cell_type": "code",
   "execution_count": null,
   "metadata": {
    "collapsed": true
   },
   "outputs": [],
   "source": [
    "con = MySQLdb.connect(user=\"root\")\n",
    "cur = con.cursor()\n",
    "cur.execute('CREATE DATABASE cycleland_db;')"
   ]
  },
  {
   "cell_type": "code",
   "execution_count": 12,
   "metadata": {
    "collapsed": false
   },
   "outputs": [],
   "source": [
    "#Ingest data\n",
    "#mysql -u root -p cycleland_db < cycle-land_export.sql"
   ]
  },
  {
   "cell_type": "markdown",
   "metadata": {},
   "source": [
    "# EDA"
   ]
  },
  {
   "cell_type": "code",
   "execution_count": 22,
   "metadata": {
    "collapsed": false
   },
   "outputs": [],
   "source": [
    "db = MySQLdb.connect(user='root', db=\"cycleland_db\")\n",
    "cur = db.cursor()\n",
    "#res = cur.execute('select * from auth_tokens;', )\n",
    "#cur.fetchall()"
   ]
  }
 ],
 "metadata": {
  "kernelspec": {
   "display_name": "cycleland_ds",
   "language": "python",
   "name": "cycleland_ds"
  },
  "language_info": {
   "codemirror_mode": {
    "name": "ipython",
    "version": 3
   },
   "file_extension": ".py",
   "mimetype": "text/x-python",
   "name": "python",
   "nbconvert_exporter": "python",
   "pygments_lexer": "ipython3",
   "version": "3.5.1"
  }
 },
 "nbformat": 4,
 "nbformat_minor": 0
}
